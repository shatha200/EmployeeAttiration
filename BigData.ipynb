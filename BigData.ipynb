{
 "cells": [
  {
   "cell_type": "code",
   "execution_count": null,
   "metadata": {
    "colab": {
     "base_uri": "https://localhost:8080/"
    },
    "executionInfo": {
     "elapsed": 2106,
     "status": "ok",
     "timestamp": 1733174812506,
     "user": {
      "displayName": "Chadha Dalhoumi",
      "userId": "17689100239637899297"
     },
     "user_tz": -60
    },
    "id": "0vNroBOkSiEr",
    "outputId": "499b8457-7821-41bb-9a60-a5acd3a11f7d"
   },
   "outputs": [
    {
     "name": "stdout",
     "output_type": "stream",
     "text": [
      "Drive already mounted at /content/drive; to attempt to forcibly remount, call drive.mount(\"/content/drive\", force_remount=True).\n"
     ]
    }
   ],
   "source": [
    "from google.colab import drive\n",
    "drive.mount('/content/drive')\n",
    "path = '/content/drive/My Drive/collab/Extended_Employee_Performance_and_Productivity_Data.csv'\n"
   ]
  },
  {
   "cell_type": "code",
   "execution_count": 2,
   "metadata": {
    "colab": {
     "base_uri": "https://localhost:8080/"
    },
    "executionInfo": {
     "elapsed": 32778,
     "status": "ok",
     "timestamp": 1733174845283,
     "user": {
      "displayName": "Chadha Dalhoumi",
      "userId": "17689100239637899297"
     },
     "user_tz": -60
    },
    "id": "_nRPz7PhmTuz",
    "outputId": "db6d2a43-510d-4f03-8218-2801d3e2be68"
   },
   "outputs": [
    {
     "name": "stdout",
     "output_type": "stream",
     "text": [
      "root\n",
      " |-- Employee_ID: integer (nullable = true)\n",
      " |-- Department: string (nullable = true)\n",
      " |-- Gender: string (nullable = true)\n",
      " |-- Age: integer (nullable = true)\n",
      " |-- Job_Title: string (nullable = true)\n",
      " |-- Hire_Date: timestamp (nullable = true)\n",
      " |-- Years_At_Company: integer (nullable = true)\n",
      " |-- Education_Level: string (nullable = true)\n",
      " |-- Performance_Score: integer (nullable = true)\n",
      " |-- Monthly_Salary: double (nullable = true)\n",
      " |-- Work_Hours_Per_Week: integer (nullable = true)\n",
      " |-- Projects_Handled: integer (nullable = true)\n",
      " |-- Overtime_Hours: integer (nullable = true)\n",
      " |-- Sick_Days: integer (nullable = true)\n",
      " |-- Remote_Work_Frequency: integer (nullable = true)\n",
      " |-- Team_Size: integer (nullable = true)\n",
      " |-- Training_Hours: integer (nullable = true)\n",
      " |-- Promotions: integer (nullable = true)\n",
      " |-- Employee_Satisfaction_Score: double (nullable = true)\n",
      " |-- Resigned: boolean (nullable = true)\n",
      "\n",
      "+-----------+----------------+------+---+----------+--------------------+----------------+---------------+-----------------+--------------+-------------------+----------------+--------------+---------+---------------------+---------+--------------+----------+---------------------------+--------+\n",
      "|Employee_ID|      Department|Gender|Age| Job_Title|           Hire_Date|Years_At_Company|Education_Level|Performance_Score|Monthly_Salary|Work_Hours_Per_Week|Projects_Handled|Overtime_Hours|Sick_Days|Remote_Work_Frequency|Team_Size|Training_Hours|Promotions|Employee_Satisfaction_Score|Resigned|\n",
      "+-----------+----------------+------+---+----------+--------------------+----------------+---------------+-----------------+--------------+-------------------+----------------+--------------+---------+---------------------+---------+--------------+----------+---------------------------+--------+\n",
      "|          1|              IT|  Male| 55|Specialist|2022-01-19 08:03:...|               2|    High School|                5|        6750.0|                 33|              32|            22|        2|                    0|       14|            66|         0|                       2.63|   false|\n",
      "|          2|         Finance|  Male| 29| Developer|2024-04-18 08:03:...|               0|    High School|                5|        7500.0|                 34|              34|            13|       14|                  100|       12|            61|         2|                       1.72|   false|\n",
      "|          3|         Finance|  Male| 55|Specialist|2015-10-26 08:03:...|               8|    High School|                3|        5850.0|                 37|              27|             6|        3|                   50|       10|             1|         0|                       3.17|   false|\n",
      "|          4|Customer Support|Female| 48|   Analyst|2016-10-22 08:03:...|               7|       Bachelor|                2|        4800.0|                 52|              10|            28|       12|                  100|       10|             0|         1|                       1.86|   false|\n",
      "|          5|     Engineering|Female| 36|   Analyst|2021-07-23 08:03:...|               3|       Bachelor|                2|        4800.0|                 38|              11|            29|       13|                  100|       15|             9|         1|                       1.25|   false|\n",
      "|          6|              IT|  Male| 43|   Manager|2016-08-14 08:03:...|               8|    High School|                3|        7800.0|                 46|              31|             8|        0|                  100|       15|            95|         0|                       2.77|   false|\n",
      "|          7|              IT|  Male| 37|Technician|2023-08-28 08:03:...|               1|       Bachelor|                5|        5250.0|                 55|              20|            29|        2|                    0|       16|            27|         0|                       4.46|   false|\n",
      "|          8|     Engineering|Female| 55|  Engineer|2014-10-27 08:03:...|               9|       Bachelor|                2|        7200.0|                 42|              46|             7|        8|                  100|        7|            64|         0|                       2.09|   false|\n",
      "|          9|       Marketing|Female| 55|Technician|2023-06-29 08:03:...|               1|    High School|                2|        4200.0|                 51|              23|            21|       14|                    0|        1|             0|         1|                       1.44|   false|\n",
      "|         10|     Engineering|Female| 45|Consultant|2016-12-23 08:03:...|               7|       Bachelor|                1|        6050.0|                 41|              33|             2|        6|                   75|        4|            53|         2|                       2.93|   false|\n",
      "|         11|Customer Support|  Male| 52|  Engineer|2019-11-26 08:03:...|               4|       Bachelor|                3|        7800.0|                 38|               1|             5|        0|                   25|        4|            90|         1|                       2.34|   false|\n",
      "|         12|Customer Support|  Male| 27|Technician|2015-02-19 08:03:...|               9|       Bachelor|                5|        5250.0|                 39|              13|             2|       13|                   25|        5|            88|         0|                       1.96|   false|\n",
      "|         13|              HR|  Male| 51|Technician|2019-07-04 08:03:...|               5|       Bachelor|                4|        4900.0|                 31|              11|            16|        1|                   75|        7|            17|         2|                       2.13|   false|\n",
      "|         14|     Engineering|  Male| 27|   Analyst|2014-10-14 08:03:...|               9|       Bachelor|                4|        5600.0|                 33|              30|             5|       13|                   25|        4|            26|         1|                       1.46|   false|\n",
      "|         15|         Finance|  Male| 46|   Analyst|2023-03-11 08:03:...|               1|         Master|                1|        4400.0|                 33|              49|            13|        1|                  100|       13|            37|         1|                       2.22|   false|\n",
      "|         16|Customer Support|  Male| 26| Developer|2023-04-19 08:03:...|               1|    High School|                2|        6000.0|                 33|              41|             9|       13|                   50|        3|            46|         1|                       2.42|   false|\n",
      "|         17|      Operations|  Male| 29|  Engineer|2019-09-21 08:03:...|               4|       Bachelor|                2|        7200.0|                 43|              26|            29|       12|                    0|        6|            76|         2|                       3.15|   false|\n",
      "|         18|           Sales| Other| 28| Developer|2022-11-08 08:03:...|               1|    High School|                3|        6500.0|                 47|              36|             6|       12|                   75|       12|            54|         0|                       1.19|   false|\n",
      "|         19|Customer Support| Other| 56| Developer|2015-10-01 08:03:...|               8|       Bachelor|                1|        5500.0|                 57|               9|            24|        1|                   75|        1|            36|         0|                       1.12|   false|\n",
      "|         20|         Finance|  Male| 23|Technician|2015-05-08 08:03:...|               9|    High School|                2|        4200.0|                 52|               0|             9|        1|                    0|        5|            66|         0|                       3.91|   false|\n",
      "|         21|      Operations|Female| 33|   Manager|2022-12-19 08:03:...|               1|       Bachelor|                1|        6600.0|                 33|              28|            13|       13|                   50|       15|            53|         2|                        3.7|   false|\n",
      "|         22|           Sales|  Male| 59|   Manager|2017-05-25 08:03:...|               7|         Master|                5|        9000.0|                 30|              22|             9|        2|                   25|        4|            20|         0|                       4.66|   false|\n",
      "|         23|         Finance|  Male| 26|Specialist|2016-07-23 08:03:...|               8|    High School|                4|        6300.0|                 48|              40|             9|       13|                    0|       13|            71|         2|                       3.68|   false|\n",
      "|         24|           Sales|  Male| 58|Consultant|2018-01-21 08:03:...|               6|         Master|                2|        6600.0|                 55|               2|            28|        8|                   25|        6|            78|         2|                       4.26|   false|\n",
      "|         25|              HR|Female| 38|   Analyst|2018-06-23 08:03:...|               6|       Bachelor|                2|        4800.0|                 50|              21|            24|       11|                   25|        7|            49|         1|                       4.43|   false|\n",
      "+-----------+----------------+------+---+----------+--------------------+----------------+---------------+-----------------+--------------+-------------------+----------------+--------------+---------+---------------------+---------+--------------+----------+---------------------------+--------+\n",
      "only showing top 25 rows\n",
      "\n"
     ]
    }
   ],
   "source": [
    "from pyspark.sql import SparkSession\n",
    "from pyspark.sql.functions import col, count,min, max\n",
    "from pyspark.ml import Pipeline\n",
    "\n",
    "\n",
    "#Creating a Spark Session\n",
    "spark = SparkSession.builder.appName(\"Pred&AnalysEmployeeAttrition\").getOrCreate()\n",
    "\n",
    "#Loading the data\n",
    "data = spark.read.csv(path, header=True, inferSchema=True)\n",
    "\n",
    "data = data.na.drop()\n",
    "\n",
    "data.printSchema()\n",
    "data.show(25)\n",
    "\n"
   ]
  },
  {
   "cell_type": "code",
   "execution_count": 3,
   "metadata": {
    "colab": {
     "base_uri": "https://localhost:8080/"
    },
    "executionInfo": {
     "elapsed": 32455,
     "status": "ok",
     "timestamp": 1733174877736,
     "user": {
      "displayName": "Chadha Dalhoumi",
      "userId": "17689100239637899297"
     },
     "user_tz": -60
    },
    "id": "atXBOi8yosMb",
    "outputId": "27c753a4-5671-4571-df8e-43a5e639c31d"
   },
   "outputs": [
    {
     "name": "stdout",
     "output_type": "stream",
     "text": [
      "Employee_ID: Number of unique values 100000\n",
      "==========================================================\n",
      "Department: Number of unique values 9\n",
      "==========================================================\n",
      "Gender: Number of unique values 3\n",
      "==========================================================\n",
      "Age: Number of unique values 39\n",
      "==========================================================\n",
      "Job_Title: Number of unique values 7\n",
      "==========================================================\n",
      "Hire_Date: Number of unique values 3650\n",
      "==========================================================\n",
      "Years_At_Company: Number of unique values 11\n",
      "==========================================================\n",
      "Education_Level: Number of unique values 4\n",
      "==========================================================\n",
      "Performance_Score: Number of unique values 5\n",
      "==========================================================\n",
      "Monthly_Salary: Number of unique values 28\n",
      "==========================================================\n",
      "Work_Hours_Per_Week: Number of unique values 31\n",
      "==========================================================\n",
      "Projects_Handled: Number of unique values 50\n",
      "==========================================================\n",
      "Overtime_Hours: Number of unique values 30\n",
      "==========================================================\n",
      "Sick_Days: Number of unique values 15\n",
      "==========================================================\n",
      "Remote_Work_Frequency: Number of unique values 5\n",
      "==========================================================\n",
      "Team_Size: Number of unique values 19\n",
      "==========================================================\n",
      "Training_Hours: Number of unique values 100\n",
      "==========================================================\n",
      "Promotions: Number of unique values 3\n",
      "==========================================================\n",
      "Employee_Satisfaction_Score: Number of unique values 401\n",
      "==========================================================\n",
      "Resigned: Number of unique values 2\n",
      "==========================================================\n"
     ]
    }
   ],
   "source": [
    "#Calculating and Displaying Unique Value Counts per Column\n",
    "for column in data.columns:\n",
    "    unique_count = data.select(column).distinct().count()\n",
    "    print(f\"{column}: Number of unique values {unique_count}\")\n",
    "    print(\"==========================================================\")"
   ]
  },
  {
   "cell_type": "code",
   "execution_count": 4,
   "metadata": {
    "colab": {
     "base_uri": "https://localhost:8080/"
    },
    "executionInfo": {
     "elapsed": 63455,
     "status": "ok",
     "timestamp": 1733174941188,
     "user": {
      "displayName": "Chadha Dalhoumi",
      "userId": "17689100239637899297"
     },
     "user_tz": -60
    },
    "id": "_XU872P7pwP1",
    "outputId": "8915460d-b792-47f1-e3c1-cdd1e8cc7245"
   },
   "outputs": [
    {
     "name": "stdout",
     "output_type": "stream",
     "text": [
      "+----------------+-----+\n",
      "|Department      |count|\n",
      "+----------------+-----+\n",
      "|Marketing       |11216|\n",
      "|Finance         |11200|\n",
      "|Operations      |11181|\n",
      "|IT              |11131|\n",
      "|Sales           |11122|\n",
      "|Legal           |11118|\n",
      "|Customer Support|11116|\n",
      "|HR              |10960|\n",
      "|Engineering     |10956|\n",
      "+----------------+-----+\n",
      "\n",
      "====================================\n",
      "+------+-----+\n",
      "|Gender|count|\n",
      "+------+-----+\n",
      "|Male  |48031|\n",
      "|Female|48001|\n",
      "|Other |3968 |\n",
      "+------+-----+\n",
      "\n",
      "====================================\n",
      "+---+-----+\n",
      "|Age|count|\n",
      "+---+-----+\n",
      "|53 |2657 |\n",
      "|27 |2628 |\n",
      "|50 |2620 |\n",
      "|28 |2617 |\n",
      "|40 |2609 |\n",
      "|46 |2604 |\n",
      "|57 |2601 |\n",
      "|24 |2598 |\n",
      "|56 |2598 |\n",
      "|39 |2596 |\n",
      "|47 |2594 |\n",
      "|43 |2594 |\n",
      "|48 |2590 |\n",
      "|52 |2586 |\n",
      "|41 |2585 |\n",
      "|26 |2584 |\n",
      "|58 |2577 |\n",
      "|51 |2576 |\n",
      "|25 |2570 |\n",
      "|31 |2566 |\n",
      "+---+-----+\n",
      "only showing top 20 rows\n",
      "\n",
      "====================================\n",
      "Age : Minimum: 22, Maximum: 60\n",
      "====================================\n",
      "+----------+-----+\n",
      "|Job_Title |count|\n",
      "+----------+-----+\n",
      "|Specialist|14507|\n",
      "|Manager   |14325|\n",
      "|Technician|14285|\n",
      "|Analyst   |14261|\n",
      "|Engineer  |14217|\n",
      "|Consultant|14210|\n",
      "|Developer |14195|\n",
      "+----------+-----+\n",
      "\n",
      "====================================\n",
      "+----------------+-----+\n",
      "|Years_At_Company|count|\n",
      "+----------------+-----+\n",
      "|2               |10272|\n",
      "|4               |10103|\n",
      "|0               |10083|\n",
      "|6               |10068|\n",
      "|1               |10018|\n",
      "|8               |9961 |\n",
      "|3               |9935 |\n",
      "|5               |9892 |\n",
      "|7               |9892 |\n",
      "|9               |9732 |\n",
      "|10              |44   |\n",
      "+----------------+-----+\n",
      "\n",
      "====================================\n",
      "Years_At_Company : Minimum: 0, Maximum: 10\n",
      "====================================\n",
      "+---------------+-----+\n",
      "|Education_Level|count|\n",
      "+---------------+-----+\n",
      "|Bachelor       |50041|\n",
      "|High School    |30004|\n",
      "|Master         |14904|\n",
      "|PhD            |5051 |\n",
      "+---------------+-----+\n",
      "\n",
      "====================================\n",
      "+-----------------+-----+\n",
      "|Performance_Score|count|\n",
      "+-----------------+-----+\n",
      "|1                |20120|\n",
      "|2                |20013|\n",
      "|3                |19999|\n",
      "|4                |19940|\n",
      "|5                |19928|\n",
      "+-----------------+-----+\n",
      "\n",
      "====================================\n",
      "Performance_Score : Minimum: 1, Maximum: 5\n",
      "====================================\n",
      "+--------------+-----+\n",
      "|Monthly_Salary|count|\n",
      "+--------------+-----+\n",
      "|6600.0        |8520 |\n",
      "|7800.0        |5759 |\n",
      "|8400.0        |5715 |\n",
      "|9000.0        |5673 |\n",
      "|7200.0        |5673 |\n",
      "|6000.0        |5622 |\n",
      "|6750.0        |2974 |\n",
      "|4200.0        |2927 |\n",
      "|5500.0        |2915 |\n",
      "|6300.0        |2909 |\n",
      "|5400.0        |2907 |\n",
      "|8250.0        |2901 |\n",
      "|4800.0        |2891 |\n",
      "|4950.0        |2889 |\n",
      "|6050.0        |2881 |\n",
      "|6500.0        |2877 |\n",
      "|5200.0        |2859 |\n",
      "|4550.0        |2858 |\n",
      "|4400.0        |2858 |\n",
      "|3850.0        |2855 |\n",
      "+--------------+-----+\n",
      "only showing top 20 rows\n",
      "\n",
      "====================================\n",
      "Monthly_Salary : Minimum: 3850.0, Maximum: 9000.0\n",
      "====================================\n",
      "+-------------------+-----+\n",
      "|Work_Hours_Per_Week|count|\n",
      "+-------------------+-----+\n",
      "|34                 |3335 |\n",
      "|40                 |3317 |\n",
      "|47                 |3310 |\n",
      "|38                 |3291 |\n",
      "|35                 |3281 |\n",
      "|45                 |3271 |\n",
      "|36                 |3265 |\n",
      "|43                 |3258 |\n",
      "|55                 |3254 |\n",
      "|57                 |3232 |\n",
      "|33                 |3232 |\n",
      "|41                 |3228 |\n",
      "|39                 |3228 |\n",
      "|52                 |3222 |\n",
      "|30                 |3221 |\n",
      "|56                 |3216 |\n",
      "|37                 |3212 |\n",
      "|53                 |3211 |\n",
      "|59                 |3209 |\n",
      "|51                 |3209 |\n",
      "+-------------------+-----+\n",
      "only showing top 20 rows\n",
      "\n",
      "====================================\n",
      "Work_Hours_Per_Week : Minimum: 30, Maximum: 60\n",
      "====================================\n",
      "+----------------+-----+\n",
      "|Projects_Handled|count|\n",
      "+----------------+-----+\n",
      "|10              |2105 |\n",
      "|42              |2086 |\n",
      "|47              |2080 |\n",
      "|2               |2079 |\n",
      "|6               |2075 |\n",
      "|49              |2075 |\n",
      "|37              |2066 |\n",
      "|7               |2054 |\n",
      "|38              |2053 |\n",
      "|17              |2048 |\n",
      "|13              |2044 |\n",
      "|9               |2044 |\n",
      "|19              |2043 |\n",
      "|15              |2029 |\n",
      "|30              |2029 |\n",
      "|3               |2023 |\n",
      "|1               |2017 |\n",
      "|36              |2016 |\n",
      "|14              |2015 |\n",
      "|16              |2012 |\n",
      "+----------------+-----+\n",
      "only showing top 20 rows\n",
      "\n",
      "====================================\n",
      "Projects_Handled : Minimum: 0, Maximum: 49\n",
      "====================================\n",
      "+--------------+-----+\n",
      "|Overtime_Hours|count|\n",
      "+--------------+-----+\n",
      "|1             |3427 |\n",
      "|8             |3410 |\n",
      "|5             |3404 |\n",
      "|11            |3392 |\n",
      "|17            |3385 |\n",
      "|24            |3384 |\n",
      "|27            |3382 |\n",
      "|29            |3379 |\n",
      "|23            |3364 |\n",
      "|14            |3356 |\n",
      "|15            |3352 |\n",
      "|22            |3345 |\n",
      "|28            |3343 |\n",
      "|18            |3336 |\n",
      "|16            |3334 |\n",
      "|0             |3326 |\n",
      "|26            |3325 |\n",
      "|12            |3319 |\n",
      "|10            |3313 |\n",
      "|3             |3311 |\n",
      "+--------------+-----+\n",
      "only showing top 20 rows\n",
      "\n",
      "====================================\n",
      "Overtime_Hours : Minimum: 0, Maximum: 29\n",
      "====================================\n",
      "+---------+-----+\n",
      "|Sick_Days|count|\n",
      "+---------+-----+\n",
      "|13       |6794 |\n",
      "|2        |6763 |\n",
      "|14       |6729 |\n",
      "|0        |6715 |\n",
      "|7        |6712 |\n",
      "|9        |6671 |\n",
      "|10       |6671 |\n",
      "|1        |6669 |\n",
      "|11       |6659 |\n",
      "|8        |6633 |\n",
      "|12       |6632 |\n",
      "|3        |6617 |\n",
      "|4        |6587 |\n",
      "|5        |6585 |\n",
      "|6        |6563 |\n",
      "+---------+-----+\n",
      "\n",
      "====================================\n",
      "Sick_Days : Minimum: 0, Maximum: 14\n",
      "====================================\n",
      "+---------------------+-----+\n",
      "|Remote_Work_Frequency|count|\n",
      "+---------------------+-----+\n",
      "|25                   |20235|\n",
      "|75                   |20173|\n",
      "|100                  |20049|\n",
      "|0                    |19837|\n",
      "|50                   |19706|\n",
      "+---------------------+-----+\n",
      "\n",
      "====================================\n",
      "Remote_Work_Frequency : Minimum: 0, Maximum: 100\n",
      "====================================\n",
      "+---------+-----+\n",
      "|Team_Size|count|\n",
      "+---------+-----+\n",
      "|19       |5468 |\n",
      "|16       |5356 |\n",
      "|18       |5324 |\n",
      "|11       |5323 |\n",
      "|4        |5309 |\n",
      "|3        |5298 |\n",
      "|1        |5287 |\n",
      "|5        |5279 |\n",
      "|2        |5272 |\n",
      "|10       |5251 |\n",
      "|12       |5244 |\n",
      "|8        |5242 |\n",
      "|13       |5233 |\n",
      "|7        |5218 |\n",
      "|15       |5214 |\n",
      "|14       |5210 |\n",
      "|6        |5164 |\n",
      "|9        |5159 |\n",
      "|17       |5149 |\n",
      "+---------+-----+\n",
      "\n",
      "====================================\n",
      "Team_Size : Minimum: 1, Maximum: 19\n",
      "====================================\n",
      "+----------+-----+\n",
      "|Promotions|count|\n",
      "+----------+-----+\n",
      "|1         |33436|\n",
      "|0         |33296|\n",
      "|2         |33268|\n",
      "+----------+-----+\n",
      "\n",
      "====================================\n",
      "Promotions : Minimum: 0, Maximum: 2\n",
      "====================================\n",
      "+--------+-----+\n",
      "|Resigned|count|\n",
      "+--------+-----+\n",
      "|false   |89990|\n",
      "|true    |10010|\n",
      "+--------+-----+\n",
      "\n",
      "====================================\n",
      "Resigned : Minimum: False, Maximum: True\n",
      "====================================\n"
     ]
    }
   ],
   "source": [
    "\n",
    "for column in data.columns:\n",
    "  unique_count = data.select(column).distinct().count()\n",
    "  if unique_count <= 50:\n",
    "\n",
    "        # Use the imported count function here\n",
    "        value_counts = data.groupBy(column).agg(count(\"*\").alias(\"count\")).orderBy(col(\"count\").desc())\n",
    "        value_counts.show(truncate=False)\n",
    "\n",
    "        print(\"====================================\")\n",
    "        if dict(data.dtypes)[column] !='string' :\n",
    "          stats = data.agg(\n",
    "              min(col(column)).alias(\"min_value\"),\n",
    "              max(col(column)).alias(\"max_value\")\n",
    "          ).collect()[0]\n",
    "\n",
    "          min_val = stats[\"min_value\"]\n",
    "          max_val = stats[\"max_value\"]\n",
    "\n",
    "          # Print the results\n",
    "          print(f\"{column} : Minimum: {min_val}, Maximum: {max_val}\")\n",
    "          print(\"====================================\")\n"
   ]
  },
  {
   "cell_type": "code",
   "execution_count": 5,
   "metadata": {
    "executionInfo": {
     "elapsed": 3,
     "status": "ok",
     "timestamp": 1733174941189,
     "user": {
      "displayName": "Chadha Dalhoumi",
      "userId": "17689100239637899297"
     },
     "user_tz": -60
    },
    "id": "GBqKgxa-6KrK"
   },
   "outputs": [],
   "source": [
    "from pyspark.ml.feature import VectorAssembler, StringIndexer,OneHotEncoder"
   ]
  },
  {
   "cell_type": "code",
   "execution_count": 6,
   "metadata": {
    "executionInfo": {
     "elapsed": 2,
     "status": "ok",
     "timestamp": 1733174941189,
     "user": {
      "displayName": "Chadha Dalhoumi",
      "userId": "17689100239637899297"
     },
     "user_tz": -60
    },
    "id": "3Fa1pb8TSPka"
   },
   "outputs": [],
   "source": [
    "from pyspark.sql.functions import  when\n",
    "from pyspark.sql.types import IntegerType"
   ]
  },
  {
   "cell_type": "code",
   "execution_count": 7,
   "metadata": {
    "executionInfo": {
     "elapsed": 8807,
     "status": "ok",
     "timestamp": 1733174949994,
     "user": {
      "displayName": "Chadha Dalhoumi",
      "userId": "17689100239637899297"
     },
     "user_tz": -60
    },
    "id": "-_68PSa507za"
   },
   "outputs": [],
   "source": [
    "data = data.withColumn(\"Resigned\", when(col(\"Resigned\"), 1).otherwise(0).cast(IntegerType())) # resigned col was a bool so i have to change it to numeric\n",
    "indexer = StringIndexer(inputCol=\"Resigned\", outputCol=\"attiration\")\n",
    "data = indexer.fit(data).transform(data)\n",
    "\n",
    "# Assuming 'data' is your DataFrame\n",
    "\n",
    "string_columns = [\"Department\", \"Gender\", \"Job_Title\", \"Education_Level\"]  # Identify string columns\n",
    "indexers = [StringIndexer(inputCol=col, outputCol=col + \"_index\") for col in string_columns]\n",
    "\n",
    "# Create a pipeline to chain the indexers\n",
    "from pyspark.ml import Pipeline\n",
    "pipeline = Pipeline(stages=indexers)\n",
    "\n",
    "# Fit and transform the data\n",
    "data = pipeline.fit(data).transform(data)\n",
    "\n",
    "\n",
    "# Now create the VectorAssembler using the indexed columns\n",
    "assembler = VectorAssembler(\n",
    "    inputCols=[col + \"_index\" for col in string_columns] + [\"Age\", \"Years_At_Company\", \"Work_Hours_Per_Week\", \"Overtime_Hours\", \"Remote_Work_Frequency\", \"Training_Hours\", \"Promotions\"],\n",
    "    outputCol=\"features\"\n",
    ")\n",
    "\n",
    "# Transform the data\n",
    "data = assembler.transform(data)"
   ]
  },
  {
   "cell_type": "code",
   "execution_count": 8,
   "metadata": {
    "colab": {
     "base_uri": "https://localhost:8080/",
     "output_embedded_package_id": "1eoVA_BtCKD-bGgt1iZTcufKl8nbhl-xr"
    },
    "executionInfo": {
     "elapsed": 15378,
     "status": "ok",
     "timestamp": 1733174965370,
     "user": {
      "displayName": "Chadha Dalhoumi",
      "userId": "17689100239637899297"
     },
     "user_tz": -60
    },
    "id": "lSpqwdkUa8JR",
    "outputId": "bd96998c-a81d-447f-e8ba-49c1d568267e"
   },
   "outputs": [
    {
     "data": {
      "text/plain": [
       "Output hidden; open in https://colab.research.google.com to view."
      ]
     },
     "metadata": {},
     "output_type": "display_data"
    }
   ],
   "source": [
    "data.select(\"features\", \"attiration\").show(1000000, truncate=False)"
   ]
  },
  {
   "cell_type": "code",
   "execution_count": 9,
   "metadata": {
    "colab": {
     "base_uri": "https://localhost:8080/"
    },
    "executionInfo": {
     "elapsed": 5,
     "status": "ok",
     "timestamp": 1733174965370,
     "user": {
      "displayName": "Chadha Dalhoumi",
      "userId": "17689100239637899297"
     },
     "user_tz": -60
    },
    "id": "lgMJtUdGfAMf",
    "outputId": "79de83d0-9133-4fae-f7db-e7891dcf6d3c"
   },
   "outputs": [
    {
     "name": "stdout",
     "output_type": "stream",
     "text": [
      "+----------+----------------+\n",
      "|attiration|   class_weights|\n",
      "+----------+----------------+\n",
      "|       0.0|1.11123458162018|\n",
      "|       0.0|1.11123458162018|\n",
      "|       0.0|1.11123458162018|\n",
      "|       0.0|1.11123458162018|\n",
      "|       0.0|1.11123458162018|\n",
      "|       0.0|1.11123458162018|\n",
      "|       0.0|1.11123458162018|\n",
      "|       0.0|1.11123458162018|\n",
      "|       0.0|1.11123458162018|\n",
      "|       0.0|1.11123458162018|\n",
      "|       0.0|1.11123458162018|\n",
      "|       0.0|1.11123458162018|\n",
      "|       0.0|1.11123458162018|\n",
      "|       0.0|1.11123458162018|\n",
      "|       0.0|1.11123458162018|\n",
      "|       0.0|1.11123458162018|\n",
      "|       0.0|1.11123458162018|\n",
      "|       0.0|1.11123458162018|\n",
      "|       0.0|1.11123458162018|\n",
      "|       0.0|1.11123458162018|\n",
      "+----------+----------------+\n",
      "only showing top 20 rows\n",
      "\n"
     ]
    }
   ],
   "source": [
    "from pyspark.sql.functions import when, lit\n",
    "\n",
    "class_counts = data.groupBy(\"attiration\").count().collect()\n",
    "\n",
    "total_count = sum(row['count'] for row in class_counts)\n",
    "class_weights = {\n",
    "    row['attiration']: total_count / row['count']\n",
    "    for row in class_counts\n",
    "}\n",
    "\n",
    "data = data.withColumn(\n",
    "    \"class_weights\",\n",
    "    when(data[\"attiration\"] == 0.0, lit(class_weights[0.0]))\n",
    "    .otherwise(lit(class_weights[1.0]))\n",
    ")\n",
    "\n",
    "data.select(\"attiration\", \"class_weights\").show()"
   ]
  },
  {
   "cell_type": "code",
   "execution_count": 10,
   "metadata": {
    "executionInfo": {
     "elapsed": 4,
     "status": "ok",
     "timestamp": 1733174965370,
     "user": {
      "displayName": "Chadha Dalhoumi",
      "userId": "17689100239637899297"
     },
     "user_tz": -60
    },
    "id": "hl9lpdx4b5Ko"
   },
   "outputs": [],
   "source": [
    "train_data, test_data = data.randomSplit([0.75, 0.25], seed=42)"
   ]
  },
  {
   "cell_type": "code",
   "execution_count": 11,
   "metadata": {
    "colab": {
     "base_uri": "https://localhost:8080/"
    },
    "executionInfo": {
     "elapsed": 4,
     "status": "ok",
     "timestamp": 1733174965370,
     "user": {
      "displayName": "Chadha Dalhoumi",
      "userId": "17689100239637899297"
     },
     "user_tz": -60
    },
    "id": "M0zwRJSOcEfG",
    "outputId": "5d33d9f5-9797-4446-85dc-dce695c5171f"
   },
   "outputs": [
    {
     "name": "stdout",
     "output_type": "stream",
     "text": [
      "+----------+-----+\n",
      "|attiration|count|\n",
      "+----------+-----+\n",
      "|       0.0|67491|\n",
      "|       1.0| 7538|\n",
      "+----------+-----+\n",
      "\n"
     ]
    }
   ],
   "source": [
    "train_data.groupBy(\"attiration\").count().show()"
   ]
  },
  {
   "cell_type": "code",
   "execution_count": 12,
   "metadata": {
    "executionInfo": {
     "elapsed": 8074,
     "status": "ok",
     "timestamp": 1733174973442,
     "user": {
      "displayName": "Chadha Dalhoumi",
      "userId": "17689100239637899297"
     },
     "user_tz": -60
    },
    "id": "JVeBR0VfcOng"
   },
   "outputs": [],
   "source": [
    "from pyspark.ml.classification import LogisticRegression\n",
    "\n",
    "lr = LogisticRegression(\n",
    "    featuresCol=\"features\",\n",
    "    labelCol=\"attiration\",\n",
    "      weightCol=\"class_weights\"\n",
    ")\n",
    "\n",
    "lr_model = lr.fit(train_data)"
   ]
  },
  {
   "cell_type": "code",
   "execution_count": 13,
   "metadata": {
    "colab": {
     "base_uri": "https://localhost:8080/"
    },
    "executionInfo": {
     "elapsed": 6300,
     "status": "ok",
     "timestamp": 1733174979740,
     "user": {
      "displayName": "Chadha Dalhoumi",
      "userId": "17689100239637899297"
     },
     "user_tz": -60
    },
    "id": "QfEU-7lKceon",
    "outputId": "bd4d3c77-5239-4caa-eb71-194e382b66af"
   },
   "outputs": [
    {
     "name": "stdout",
     "output_type": "stream",
     "text": [
      "+--------------------+----------+----------+\n",
      "|            features|attiration|prediction|\n",
      "+--------------------+----------+----------+\n",
      "|[1.0,0.0,0.0,1.0,...|       0.0|       1.0|\n",
      "|[3.0,0.0,2.0,0.0,...|       0.0|       0.0|\n",
      "|[0.0,1.0,2.0,1.0,...|       0.0|       0.0|\n",
      "|[8.0,1.0,5.0,0.0,...|       0.0|       0.0|\n",
      "|[8.0,0.0,3.0,0.0,...|       0.0|       0.0|\n",
      "|[1.0,0.0,2.0,1.0,...|       0.0|       0.0|\n",
      "|[4.0,0.0,5.0,2.0,...|       0.0|       1.0|\n",
      "|[1.0,0.0,3.0,1.0,...|       0.0|       0.0|\n",
      "|[6.0,0.0,5.0,0.0,...|       0.0|       0.0|\n",
      "|[6.0,0.0,3.0,1.0,...|       0.0|       0.0|\n",
      "|[0.0,0.0,3.0,2.0,...|       0.0|       1.0|\n",
      "|[7.0,1.0,4.0,2.0,...|       0.0|       1.0|\n",
      "|[6.0,0.0,4.0,0.0,...|       0.0|       1.0|\n",
      "|[7.0,1.0,0.0,1.0,...|       0.0|       1.0|\n",
      "|[7.0,0.0,2.0,0.0,...|       0.0|       0.0|\n",
      "|[2.0,0.0,0.0,0.0,...|       0.0|       1.0|\n",
      "|[2.0,2.0,6.0,1.0,...|       0.0|       1.0|\n",
      "|[7.0,0.0,6.0,0.0,...|       0.0|       0.0|\n",
      "|[0.0,1.0,6.0,0.0,...|       0.0|       1.0|\n",
      "|[4.0,0.0,1.0,0.0,...|       0.0|       1.0|\n",
      "+--------------------+----------+----------+\n",
      "only showing top 20 rows\n",
      "\n",
      "Test Accuracy: 0.47010532217372153\n"
     ]
    }
   ],
   "source": [
    "predictions = lr_model.transform(test_data)\n",
    "\n",
    "predictions.select(\"features\", \"attiration\", \"prediction\").show(20)\n",
    "\n",
    "from pyspark.ml.evaluation import MulticlassClassificationEvaluator\n",
    "\n",
    "evaluator = MulticlassClassificationEvaluator(\n",
    "    labelCol=\"attiration\", predictionCol=\"prediction\", metricName=\"accuracy\"\n",
    ")\n",
    "accuracy = evaluator.evaluate(predictions)\n",
    "print(f\"Test Accuracy: {accuracy}\")"
   ]
  },
  {
   "cell_type": "code",
   "execution_count": 14,
   "metadata": {
    "executionInfo": {
     "elapsed": 18250,
     "status": "ok",
     "timestamp": 1733174997989,
     "user": {
      "displayName": "Chadha Dalhoumi",
      "userId": "17689100239637899297"
     },
     "user_tz": -60
    },
    "id": "L5BSeyN1kRb_"
   },
   "outputs": [],
   "source": [
    "from pyspark.ml.classification import RandomForestClassifier\n",
    "\n",
    "rf = RandomForestClassifier(labelCol=\"attiration\", featuresCol=\"features\", numTrees=50,weightCol=\"class_weights\")\n",
    "rf_model = rf.fit(train_data)\n",
    "predictions = rf_model.transform(test_data)"
   ]
  },
  {
   "cell_type": "code",
   "execution_count": 15,
   "metadata": {
    "colab": {
     "base_uri": "https://localhost:8080/"
    },
    "executionInfo": {
     "elapsed": 4352,
     "status": "ok",
     "timestamp": 1733175002339,
     "user": {
      "displayName": "Chadha Dalhoumi",
      "userId": "17689100239637899297"
     },
     "user_tz": -60
    },
    "id": "YVI7ZQuFkSwv",
    "outputId": "1b10c804-6d3a-42d8-e08a-f8f7f5b0faf6"
   },
   "outputs": [
    {
     "name": "stdout",
     "output_type": "stream",
     "text": [
      "+--------------------+----------+----------+\n",
      "|            features|attiration|prediction|\n",
      "+--------------------+----------+----------+\n",
      "|[1.0,0.0,0.0,1.0,...|       0.0|       1.0|\n",
      "|[3.0,0.0,2.0,0.0,...|       0.0|       0.0|\n",
      "|[0.0,1.0,2.0,1.0,...|       0.0|       0.0|\n",
      "|[8.0,1.0,5.0,0.0,...|       0.0|       0.0|\n",
      "|[8.0,0.0,3.0,0.0,...|       0.0|       0.0|\n",
      "|[1.0,0.0,2.0,1.0,...|       0.0|       0.0|\n",
      "|[4.0,0.0,5.0,2.0,...|       0.0|       1.0|\n",
      "|[1.0,0.0,3.0,1.0,...|       0.0|       1.0|\n",
      "|[6.0,0.0,5.0,0.0,...|       0.0|       0.0|\n",
      "|[6.0,0.0,3.0,1.0,...|       0.0|       1.0|\n",
      "|[0.0,0.0,3.0,2.0,...|       0.0|       1.0|\n",
      "|[7.0,1.0,4.0,2.0,...|       0.0|       1.0|\n",
      "|[6.0,0.0,4.0,0.0,...|       0.0|       0.0|\n",
      "|[7.0,1.0,0.0,1.0,...|       0.0|       1.0|\n",
      "|[7.0,0.0,2.0,0.0,...|       0.0|       1.0|\n",
      "|[2.0,0.0,0.0,0.0,...|       0.0|       1.0|\n",
      "|[2.0,2.0,6.0,1.0,...|       0.0|       0.0|\n",
      "|[7.0,0.0,6.0,0.0,...|       0.0|       1.0|\n",
      "|[0.0,1.0,6.0,0.0,...|       0.0|       0.0|\n",
      "|[4.0,0.0,1.0,0.0,...|       0.0|       1.0|\n",
      "+--------------------+----------+----------+\n",
      "only showing top 20 rows\n",
      "\n",
      "Test Accuracy: 0.5358615994553683\n"
     ]
    }
   ],
   "source": [
    "predictions = rf_model.transform(test_data)\n",
    "\n",
    "predictions.select(\"features\", \"attiration\", \"prediction\").show(20)\n",
    "\n",
    "from pyspark.ml.evaluation import MulticlassClassificationEvaluator\n",
    "\n",
    "evaluator = MulticlassClassificationEvaluator(\n",
    "    labelCol=\"attiration\", predictionCol=\"prediction\", metricName=\"accuracy\"\n",
    ")\n",
    "accuracy = evaluator.evaluate(predictions)\n",
    "print(f\"Test Accuracy: {accuracy}\")"
   ]
  },
  {
   "cell_type": "code",
   "execution_count": 16,
   "metadata": {
    "colab": {
     "base_uri": "https://localhost:8080/"
    },
    "executionInfo": {
     "elapsed": 8754,
     "status": "ok",
     "timestamp": 1733175011092,
     "user": {
      "displayName": "Chadha Dalhoumi",
      "userId": "17689100239637899297"
     },
     "user_tz": -60
    },
    "id": "MA9q_rwxkvxv",
    "outputId": "9c869593-b801-41e5-a322-d4338f426ac5"
   },
   "outputs": [
    {
     "name": "stdout",
     "output_type": "stream",
     "text": [
      "Accuracy: 0.5358615994553683\n",
      "Precision: 0.8227266495742798\n",
      "Recall: 0.5358615994553683\n",
      "F1 Score: 0.6277671381390202\n"
     ]
    }
   ],
   "source": [
    "from pyspark.ml.evaluation import MulticlassClassificationEvaluator\n",
    "\n",
    "evaluator = MulticlassClassificationEvaluator(labelCol=\"attiration\", predictionCol=\"prediction\")\n",
    "\n",
    "accuracy = evaluator.evaluate(predictions, {evaluator.metricName: \"accuracy\"})\n",
    "precision = evaluator.evaluate(predictions, {evaluator.metricName: \"weightedPrecision\"})\n",
    "recall = evaluator.evaluate(predictions, {evaluator.metricName: \"weightedRecall\"})\n",
    "f1 = evaluator.evaluate(predictions, {evaluator.metricName: \"f1\"})\n",
    "\n",
    "print(f\"Accuracy: {accuracy}\")\n",
    "print(f\"Precision: {precision}\")\n",
    "print(f\"Recall: {recall}\")\n",
    "print(f\"F1 Score: {f1}\")"
   ]
  },
  {
   "cell_type": "code",
   "execution_count": 17,
   "metadata": {
    "colab": {
     "base_uri": "https://localhost:8080/"
    },
    "executionInfo": {
     "elapsed": 5516,
     "status": "ok",
     "timestamp": 1733175016606,
     "user": {
      "displayName": "Chadha Dalhoumi",
      "userId": "17689100239637899297"
     },
     "user_tz": -60
    },
    "id": "sO9HCgdnlKAB",
    "outputId": "cbab00ab-5be2-48c1-ee13-2e9f960ece90"
   },
   "outputs": [
    {
     "name": "stdout",
     "output_type": "stream",
     "text": [
      "Training Accuracy: 0.5615561982700022\n",
      "Test Accuracy: 0.5358615994553683\n",
      "The model might be overfitting. Consider regularization or simpler models.\n"
     ]
    }
   ],
   "source": [
    "from pyspark.ml.evaluation import MulticlassClassificationEvaluator\n",
    "\n",
    "train_predictions = rf_model.transform(train_data)\n",
    "\n",
    "test_predictions = rf_model.transform(test_data)\n",
    "\n",
    "evaluator = MulticlassClassificationEvaluator(\n",
    "    labelCol=\"attiration\",\n",
    "    predictionCol=\"prediction\",\n",
    "    metricName=\"accuracy\"\n",
    ")\n",
    "\n",
    "train_accuracy = evaluator.evaluate(train_predictions)\n",
    "test_accuracy = evaluator.evaluate(test_predictions)\n",
    "\n",
    "print(f\"Training Accuracy: {train_accuracy}\")\n",
    "print(f\"Test Accuracy: {test_accuracy}\")\n",
    "\n",
    "if train_accuracy > test_accuracy:\n",
    "    print(\"The model might be overfitting. Consider regularization or simpler models.\")\n",
    "elif train_accuracy < test_accuracy:\n",
    "    print(\"The model might be underfitting. Consider adding features or using a more complex model.\")\n",
    "else:\n",
    "    print(\"The model generalizes well between training and test data.\")"
   ]
  },
  {
   "cell_type": "code",
   "execution_count": 19,
   "metadata": {
    "executionInfo": {
     "elapsed": 2,
     "status": "ok",
     "timestamp": 1733175016606,
     "user": {
      "displayName": "Chadha Dalhoumi",
      "userId": "17689100239637899297"
     },
     "user_tz": -60
    },
    "id": "443qj_ainbR-"
   },
   "outputs": [],
   "source": [
    "from pyspark.ml.tuning import CrossValidator\n",
    "from pyspark.ml.evaluation import MulticlassClassificationEvaluator\n",
    "\n",
    "evaluator = MulticlassClassificationEvaluator(\n",
    "    labelCol=\"attiration\",\n",
    "    predictionCol=\"prediction\",\n",
    "    metricName=\"accuracy\"\n",
    ")\n",
    "\n",
    "cross_validator = CrossValidator(\n",
    "    estimator=rf,\n",
    "    estimatorParamMaps=param_grid,\n",
    "    evaluator=evaluator,\n",
    "    numFolds=5,\n",
    "    seed=42\n",
    ")"
   ]
  },
  {
   "cell_type": "code",
   "execution_count": 20,
   "metadata": {
    "executionInfo": {
     "elapsed": 3,
     "status": "ok",
     "timestamp": 1733175016607,
     "user": {
      "displayName": "Chadha Dalhoumi",
      "userId": "17689100239637899297"
     },
     "user_tz": -60
    },
    "id": "_Jj5RQHRnuN_"
   },
   "outputs": [],
   "source": [
    "from pyspark.ml.tuning import CrossValidator\n",
    "from pyspark.ml.evaluation import MulticlassClassificationEvaluator\n",
    "\n",
    "evaluator = MulticlassClassificationEvaluator(\n",
    "    labelCol=\"attiration\",\n",
    "    predictionCol=\"prediction\",\n",
    "    metricName=\"accuracy\"\n",
    ")\n",
    "\n",
    "cross_validator = CrossValidator(\n",
    "    estimator=rf,\n",
    "    estimatorParamMaps=param_grid,\n",
    "    evaluator=evaluator,\n",
    "    numFolds=5,\n",
    "    seed=42\n",
    ")"
   ]
  },
  {
   "cell_type": "code",
   "execution_count": 21,
   "metadata": {
    "executionInfo": {
     "elapsed": 444403,
     "status": "ok",
     "timestamp": 1733175461007,
     "user": {
      "displayName": "Chadha Dalhoumi",
      "userId": "17689100239637899297"
     },
     "user_tz": -60
    },
    "id": "yCApwm4Ln2Vv"
   },
   "outputs": [],
   "source": [
    "cv_model = cross_validator.fit(train_data)"
   ]
  },
  {
   "cell_type": "code",
   "execution_count": 22,
   "metadata": {
    "colab": {
     "base_uri": "https://localhost:8080/"
    },
    "executionInfo": {
     "elapsed": 1752,
     "status": "ok",
     "timestamp": 1733175462757,
     "user": {
      "displayName": "Chadha Dalhoumi",
      "userId": "17689100239637899297"
     },
     "user_tz": -60
    },
    "id": "lMMDS5Dgn50v",
    "outputId": "a510377d-68d9-4fe4-ae68-6178579c5927"
   },
   "outputs": [
    {
     "name": "stdout",
     "output_type": "stream",
     "text": [
      "Cross-Validated Test Accuracy: 0.5358615994553683\n"
     ]
    }
   ],
   "source": [
    "best_model = cv_model.bestModel\n",
    "\n",
    "cv_predictions = best_model.transform(test_data)\n",
    "\n",
    "test_accuracy = evaluator.evaluate(cv_predictions)\n",
    "\n",
    "print(f\"Cross-Validated Test Accuracy: {test_accuracy}\")"
   ]
  },
  {
   "cell_type": "code",
   "execution_count": 23,
   "metadata": {
    "executionInfo": {
     "elapsed": 4836,
     "status": "ok",
     "timestamp": 1733175467591,
     "user": {
      "displayName": "Chadha Dalhoumi",
      "userId": "17689100239637899297"
     },
     "user_tz": -60
    },
    "id": "TjGOJcajHdCY"
   },
   "outputs": [],
   "source": [
    "from pyspark.sql.functions import col\n",
    "\n",
    "results = predictions.select(\"attiration\", \"prediction\")\n",
    "\n",
    "true_counts = results.groupBy(\"attiration\").count().withColumnRenamed(\"count\", \"true_count\")\n",
    "\n",
    "predicted_counts = results.groupBy(\"prediction\").count().withColumnRenamed(\"count\", \"predicted_count\")\n",
    "\n",
    "comparison = true_counts.join(predicted_counts,\n",
    "                              true_counts[\"attiration\"] == predicted_counts[\"prediction\"],\n",
    "                              \"outer\").select(\n",
    "    col(\"attiration\").alias(\"class\"),\n",
    "    \"true_count\",\n",
    "    \"predicted_count\"\n",
    ")\n",
    "\n",
    "comparison = comparison.fillna(0, subset=[\"true_count\", \"predicted_count\"])\n",
    "\n",
    "comparison_data = comparison.collect()"
   ]
  },
  {
   "cell_type": "code",
   "execution_count": 24,
   "metadata": {
    "colab": {
     "base_uri": "https://localhost:8080/",
     "height": 507
    },
    "executionInfo": {
     "elapsed": 445,
     "status": "ok",
     "timestamp": 1733175468034,
     "user": {
      "displayName": "Chadha Dalhoumi",
      "userId": "17689100239637899297"
     },
     "user_tz": -60
    },
    "id": "ljAzTKPNHhwO",
    "outputId": "b959cd57-0230-475e-9b97-732ece53ce19"
   },
   "outputs": [
    {
     "data": {
      "image/png": "[encoded data removed]",
      "text/plain": [
       "<Figure size 800x500 with 1 Axes>"
      ]
     },
     "metadata": {},
     "output_type": "display_data"
    }
   ],
   "source": [
    "import numpy as np\n",
    "import matplotlib.pyplot as plt\n",
    "\n",
    "true_data = {int(row['class']): row['true_count'] for row in comparison_data if row['class'] is not None}\n",
    "predicted_data = {int(row['class']): row['predicted_count'] for row in comparison_data if row['class'] is not None}\n",
    "\n",
    "labels = list(true_data.keys())\n",
    "true_counts = list(true_data.values())\n",
    "predicted_counts = list(predicted_data.values())\n",
    "\n",
    "labels = [f\"Class {int(c)}\" for c in labels]\n",
    "x = np.arange(len(labels))\n",
    "bar_width = 0.35\n",
    "\n",
    "plt.figure(figsize=(8, 5))\n",
    "plt.bar(x - bar_width/2, true_counts, bar_width, label='True', color='green')\n",
    "plt.bar(x + bar_width/2, predicted_counts, bar_width, label='Predicted', color='red')\n",
    "\n",
    "plt.xlabel(\"Classes\")\n",
    "plt.ylabel(\"Counts\")\n",
    "plt.title(\"True vs Predicted Value Distribution\")\n",
    "plt.xticks(x, labels)\n",
    "plt.legend()\n",
    "plt.tight_layout()\n",
    "plt.show()"
   ]
  }
 ],
 "metadata": {
  "colab": {
   "authorship_tag": "ABX9TyO54E3x9A6NdrdR7b4r1llH",
   "provenance": []
  },
  "kernelspec": {
   "display_name": "Python 3",
   "name": "python3"
  },
  "language_info": {
   "name": "python"
  }
 },
 "nbformat": 4,
 "nbformat_minor": 0
}
